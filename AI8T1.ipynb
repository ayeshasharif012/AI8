{
 "cells": [
  {
   "cell_type": "code",
   "execution_count": 7,
   "id": "b991ab4f-99d7-4046-afb1-4ec30976bb71",
   "metadata": {},
   "outputs": [
    {
     "name": "stdout",
     "output_type": "stream",
     "text": [
      "Recommended movies for user A: [4, 5]\n"
     ]
    }
   ],
   "source": [
    "import pandas as pd\n",
    "from sklearn.metrics.pairwise import cosine_similarity\n",
    "from sklearn.preprocessing import StandardScaler\n",
    "ratings_dict = {\n",
    "    \"item\": [1, 2, 3, 4, 5, 1, 2, 3, 4, 5],\n",
    "    \"user\": ['A', 'A', 'A', 'B', 'B', 'B', 'C', 'C', 'C', 'C'],\n",
    "    \"rating\": [4, 5, 3, 2, 4, 5, 5, 2, 4, 3],\n",
    "}\n",
    "df = pd.DataFrame(ratings_dict)\n",
    "user_item_matrix = df.pivot_table(index='user', columns='item', values='rating')\n",
    "user_item_matrix = user_item_matrix.fillna(0)\n",
    "scaler = StandardScaler()\n",
    "user_item_matrix_scaled = scaler.fit_transform(user_item_matrix)\n",
    "item_similarity = cosine_similarity(user_item_matrix_scaled.T)\n",
    "item_similarity_df = pd.DataFrame(item_similarity, index=user_item_matrix.columns, columns=user_item_matrix.columns)\n",
    "def recommend_movies(user, num_recommendations=3):\n",
    "    user_ratings = user_item_matrix.loc[user]\n",
    "    predictions = {}\n",
    "    for item in user_item_matrix.columns:\n",
    "        if pd.isna(user_ratings[item]) or user_ratings[item] == 0: \n",
    "            similar_items = item_similarity_df[item]\n",
    "            weighted_sum = sum(similar_items * user_ratings)\n",
    "            similarity_sum = sum(similar_items)\n",
    "            predictions[item] = weighted_sum / similarity_sum if similarity_sum != 0 else 0\n",
    "    sorted_predictions = sorted(predictions.items(), key=lambda x: x[1], reverse=True)\n",
    "    return [item for item, rating in sorted_predictions[:num_recommendations]]\n",
    "user = 'A'\n",
    "recommendations = recommend_movies(user)\n",
    "print(f\"Recommended movies for user {user}: {recommendations}\")"
   ]
  },
  {
   "cell_type": "code",
   "execution_count": null,
   "id": "0777fad6-8ad3-42e4-8d07-70d8a810548f",
   "metadata": {},
   "outputs": [],
   "source": []
  }
 ],
 "metadata": {
  "kernelspec": {
   "display_name": "Python 3 (ipykernel)",
   "language": "python",
   "name": "python3"
  },
  "language_info": {
   "codemirror_mode": {
    "name": "ipython",
    "version": 3
   },
   "file_extension": ".py",
   "mimetype": "text/x-python",
   "name": "python",
   "nbconvert_exporter": "python",
   "pygments_lexer": "ipython3",
   "version": "3.13.0"
  }
 },
 "nbformat": 4,
 "nbformat_minor": 5
}
